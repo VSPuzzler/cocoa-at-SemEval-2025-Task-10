{
  "cells": [
    {
      "cell_type": "code",
      "execution_count": null,
      "metadata": {
        "colab": {
          "base_uri": "https://localhost:8080/"
        },
        "id": "ASIVUhwRy9_6",
        "outputId": "74923191-fd42-4202-e37e-ead67b612af5"
      },
      "outputs": [],
      "source": [
        "import os\n",
        "def load_annotations(annotations_file):\n",
        "    annotations = []\n",
        "    position = []\n",
        "    with open(annotations_file, 'r') as file:\n",
        "        for line in file:\n",
        "            parts = line.strip().split('\\t')\n",
        "            position.append([parts[2],parts[3]])\n",
        "            # Find the index where \"Protagonist\", \"Antagonist\", or \"Innocent\" appears\n",
        "            for i, part in enumerate(parts):\n",
        "                if part in [\"Protagonist\", \"Antagonist\", \"Innocent\"]:\n",
        "                    main_info = parts[:i+1]  # Everything up to and including the found role\n",
        "                    grouped_info = parts[i+1:]  # Everything after   the role\n",
        "                    annotations.append(main_info + [grouped_info])  # Grouped as a subarray\n",
        "                    break\n",
        "    return annotations, position\n",
        "\n",
        "def load_documents(raw_documents_folder):\n",
        "    documents = {}\n",
        "    for filename in os.listdir(raw_documents_folder):\n",
        "        file_path = os.path.join(raw_documents_folder, filename)\n",
        "        with open(file_path, 'r', encoding='utf-8') as file:\n",
        "            documents[filename] = file.read()\n",
        "    return documents\n",
        "\n",
        "def process_documents(annotations_file, raw_documents_folder):\n",
        "\n",
        "    annotations, position_array = load_annotations(annotations_file)\n",
        "    documents = load_documents(raw_documents_folder)\n",
        "\n",
        "    result = []\n",
        "\n",
        "    for annotation in annotations:\n",
        "        filename = annotation[0]\n",
        "        if filename in documents:\n",
        "            document_text = documents[filename]\n",
        "            result.append([document_text] + annotation)\n",
        "\n",
        "    return result, position_array\n",
        "\n",
        "\n",
        "annotations_file = 'subtask-1-annotations.txt'\n",
        "raw_documents_folder = 'raw-documents'\n",
        "result_array, position_array = process_documents(annotations_file, raw_documents_folder)"
      ]
    },
    {
      "cell_type": "code",
      "execution_count": null,
      "metadata": {
        "colab": {
          "base_uri": "https://localhost:8080/"
        },
        "id": "hiUwAXs2zAuD",
        "outputId": "a20794cc-5624-45f4-910e-244377d81468"
      },
      "outputs": [],
      "source": [
        "!pip install --upgrade openai\n"
      ]
    },
    {
      "cell_type": "code",
      "execution_count": null,
      "metadata": {
        "id": "3_KHfJIQHKWT"
      },
      "outputs": [],
      "source": [
        "def exact_match2(gold_main_role, pred_main_role, gold_sub_roles, pred_sub_roles):\n",
        "    gold = str(gold_main_role).lower()\n",
        "    pred = str(pred_main_role).lower()\n",
        "\n",
        "    a = 1\n",
        "    if gold != pred:\n",
        "        a = 0\n",
        "\n",
        "    if len(gold_sub_roles) != len(pred_sub_roles):\n",
        "        return a, 0\n",
        "\n",
        "    gold_sub_roles.sort()\n",
        "    pred_sub_roles.sort()\n",
        "\n",
        "    length = len(gold_sub_roles)\n",
        "    for i in range(length):\n",
        "        if str(gold_sub_roles[i]).lower != str(pred_sub_roles[i]).lower:\n",
        "            return a, 0\n",
        "\n",
        "    return a, 1"
      ]
    },
    {
      "cell_type": "code",
      "execution_count": null,
      "metadata": {
        "colab": {
          "base_uri": "https://localhost:8080/"
        },
        "id": "Ftkme4i6zDJo",
        "outputId": "2c9c9448-bee1-4f55-b572-932278eb8aea"
      },
      "outputs": [
        {
          "name": "stdout",
          "output_type": "stream",
          "text": [
            "gpt-3.5-turbo-1106 0 161 0 686\n",
            "gpt-4o 0 131 0 686\n",
            "gpt-3.5-turbo 0 152 0 686\n"
          ]
        }
      ],
      "source": [
        "from openai import OpenAI\n",
        "from difflib import SequenceMatcher\n",
        "\n",
        "def similar(a, b):\n",
        "    return SequenceMatcher(None, a, b).ratio()\n",
        "\n",
        "def mark_target_word(text, position_range, start_token=\"[TARGET]\", end_token=\"[/TARGET]\", max_tokens=512):\n",
        "    start_char, end_char = position_range\n",
        "    text = text[0]\n",
        "    marked_text = text[:int(start_char)] + start_token + text[int(start_char):int(end_char)] + end_token + text[int(end_char):]\n",
        "\n",
        "    return marked_text\n",
        "\n",
        "article = []\n",
        "for x in range(len(result_array)):\n",
        "  position_range = position_array[x]\n",
        "  text = result_array[x]\n",
        "  article.append(mark_target_word(text, position_range))\n",
        "\n",
        "\n",
        "\n",
        "models = {\"gpt-3.5-turbo-1106\",\"gpt-4o\",\"gpt-3.5-turbo\"}\n",
        "client = OpenAI(api_key='API KEY HERE')\n",
        "for model in models:\n",
        "  output = []\n",
        "  main_correct = 0\n",
        "  sub_correct = 0\n",
        "  both_correct = 0\n",
        "  n=0\n",
        "  for article in result_array:\n",
        "\n",
        "    completion = client.chat.completions.create(\n",
        "          model=model,\n",
        "          messages=[\n",
        "            {\"role\": \"system\", \"content\": \"You are a helpful assistant\"},\n",
        "            {\"role\": \"user\", \"content\": \"This is an article:\" + article[0]+ \"Looking at the target word marked by [TARGET] and [/TARGET] tokens, is it a protagonists, antagonists, or innocent article?\"}\n",
        "          ]\n",
        "        )\n",
        "\n",
        "    pred = completion.choices[0].message.content\n",
        "    main_category = 'protagonist'\n",
        "    val = similar('protagonist', pred)\n",
        "    if val < similar('antagonist', pred):\n",
        "      main_category = 'antagonist'\n",
        "    if val < similar('innocent', pred):\n",
        "      main_category = 'innocent'\n",
        "\n",
        "    if main_category == 'protagonist':\n",
        "        completion = client.chat.completions.create(\n",
        "          model=model,\n",
        "          messages=[\n",
        "            {\"role\": \"system\", \"content\": \"You are a helpful assistant\"},\n",
        "            {\"role\": \"user\", \"content\": \"This is a protagonist article:\" + article[0]+\n",
        "            \"Looking at the target word marked by [TARGET] and [/TARGET] tokens, which of the following catgeories would it go under (it can be multiple)\"+\n",
        "            \"Guardian, Martyr, Peacemaker, Rebel, Underdog, Virtuous. Respond with just the list of categories.\"}\n",
        "          ]\n",
        "        )\n",
        "        sub_category = []\n",
        "        sub = ['guardian', 'martyr', 'peacemaker', 'rebel', 'underdog', 'virtuous']\n",
        "        for i in range(len(sub)):\n",
        "          if sub[i] in completion.choices[0].message.content.lower():\n",
        "            sub_category.append(sub[i])\n",
        "    elif main_category == 'antagonist':\n",
        "      completion = client.chat.completions.create(\n",
        "          model=model,\n",
        "          messages=[\n",
        "            {\"role\": \"system\", \"content\": \"You are a helpful assistant\"},\n",
        "            {\"role\": \"user\", \"content\": \"This is a antagonist article:\" + article[0]+\n",
        "              \"Looking at the target word marked by [TARGET] and [/TARGET] tokens, which of the following catgeories would it go under (it can be multiple)\"+\n",
        "              \"Instigator, Conspirator, Tyrant, Foreign Adversary, Traitor, Spy, Saboteur, Corrupt, Incompetent, Terrorist, Deceiver, Bigot\"}\n",
        "          ]\n",
        "        )\n",
        "      sub_category = []\n",
        "      sub = ['instigator', 'conspirator', 'tyrant', 'foreign adversary', 'traitor', 'spy', 'saboteur', 'corrupt', 'corrupt', 'incompetent', 'terrorist', 'deceiver', 'bigot']\n",
        "      for i in range(len(sub)):\n",
        "        if sub[i] in completion.choices[0].message.content.lower():\n",
        "          sub_category.append(sub[i])\n",
        "    elif main_category == 'innocent':\n",
        "      completion = client.chat.completions.create(\n",
        "              model=model,\n",
        "              messages=[\n",
        "                {\"role\": \"system\", \"content\": \"You are a helpful assistant\"},\n",
        "                {\"role\": \"user\", \"content\": \"This is a antagonist article:\" + article[0]+\n",
        "                  \"Looking at the target word marked by [TARGET] and [/TARGET] tokens, which of the following catgeories would it go under (it can be multiple)\"+\n",
        "                  \"Forgotten, Exploited, Victim, Scapegoat\"}\n",
        "              ]\n",
        "            )\n",
        "      sub_category = []\n",
        "      sub = ['forgotten', 'exploited', 'victim', 'scapegoat']\n",
        "      for i in range(len(sub)):\n",
        "        if sub[i] in completion.choices[0].message.content.lower():\n",
        "          sub_category.append(sub[i])\n",
        "\n",
        "    x = exact_match2(result_array[n][-2],main_category,result_array[n][-1], sub_category)\n",
        "    if x[0] == 1 and x[1] == 1:\n",
        "      both_correct += 1\n",
        "    if x[0] == 1:\n",
        "      main_correct += 1\n",
        "    if x[1] == 1:\n",
        "      sub_correct += 1\n",
        "    n += 1\n",
        "    output.append([main_category, sub_category])\n",
        "  print(model, both_correct, main_correct, sub_correct, n)\n",
        "\n"
      ]
    },
    {
      "cell_type": "code",
      "execution_count": null,
      "metadata": {
        "id": "6WkMoN9_kLrJ"
      },
      "outputs": [],
      "source": [
        "print(result_array[0][-2])"
      ]
    }
  ],
  "metadata": {
    "colab": {
      "provenance": []
    },
    "kernelspec": {
      "display_name": "Python 3",
      "name": "python3"
    },
    "language_info": {
      "name": "python"
    }
  },
  "nbformat": 4,
  "nbformat_minor": 0
}
